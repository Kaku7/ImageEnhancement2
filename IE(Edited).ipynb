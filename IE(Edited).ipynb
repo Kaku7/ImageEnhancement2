{
 "cells": [
  {
   "cell_type": "code",
   "execution_count": 13,
   "id": "5fa63015",
   "metadata": {},
   "outputs": [],
   "source": [
    "import os\n",
    "import cv2\n",
    "import numpy as np"
   ]
  },
  {
   "cell_type": "code",
   "execution_count": 14,
   "id": "3bd11829",
   "metadata": {},
   "outputs": [],
   "source": [
    "def dark_channel(image, window_size=15):\n",
    "    padded_image = cv2.copyMakeBorder(image, window_size // 2, window_size // 2, window_size // 2, window_size // 2, cv2.BORDER_CONSTANT)\n",
    "    dark_channel = np.min(padded_image, axis=2)\n",
    "    return dark_channel[window_size // 2 : -window_size // 2, window_size // 2 : -window_size // 2]"
   ]
  },
  {
   "cell_type": "code",
   "execution_count": 15,
   "id": "3509c137",
   "metadata": {},
   "outputs": [],
   "source": [
    "def atmospheric_light(image, dark_channel, percentile=0.001):\n",
    "    flat_dark_channel = dark_channel.flatten()\n",
    "    num_pixels = flat_dark_channel.shape[0]\n",
    "    \n",
    "    # Determine the number of pixels to select\n",
    "    num_pixels_to_select = max(1, int(num_pixels * percentile))\n",
    "    \n",
    "    # If the number of pixels to select exceeds the total number of pixels, select all pixels\n",
    "    if num_pixels_to_select >= num_pixels:\n",
    "        num_pixels_to_select = num_pixels\n",
    "    \n",
    "    indices = np.argpartition(flat_dark_channel, -num_pixels_to_select)[-num_pixels_to_select:]\n",
    "    atmospheric_light = np.max(image.reshape(-1, 3)[indices], axis=0)\n",
    "    return atmospheric_light"
   ]
  },
  {
   "cell_type": "code",
   "execution_count": 16,
   "id": "c35aab60",
   "metadata": {},
   "outputs": [],
   "source": [
    "def transmission_estimation(image, atmospheric_light, omega=0.95, window_size=15):\n",
    "    normalized_image = image / atmospheric_light\n",
    "    dark_chan = dark_channel(normalized_image, window_size)\n",
    "    transmission_map = 1.0 - omega * dark_chan\n",
    "    return transmission_map\n"
   ]
  },
  {
   "cell_type": "code",
   "execution_count": 17,
   "id": "d0966cb7",
   "metadata": {},
   "outputs": [],
   "source": [
    "def guided_filter(I, p, r=15, eps=1e-3):\n",
    "    mean_I  = cv2.boxFilter(I, -1, (r, r))\n",
    "    mean_p  = cv2.boxFilter(p, -1, (r, r))\n",
    "    corr_I  = cv2.boxFilter(I * I, -1, (r, r))\n",
    "    corr_Ip = cv2.boxFilter(I * p, -1, (r, r))\n",
    "\n",
    "    var_I = corr_I - mean_I * mean_I\n",
    "    cov_Ip = corr_Ip - mean_I * mean_p\n",
    "\n",
    "    a = cov_Ip / (var_I + eps)\n",
    "    b = mean_p - a * mean_I\n",
    "\n",
    "    mean_a = cv2.boxFilter(a, -1, (r, r))\n",
    "    mean_b = cv2.boxFilter(b, -1, (r, r))\n",
    "\n",
    "    q = mean_a * I + mean_b\n",
    "    return q"
   ]
  },
  {
   "cell_type": "code",
   "execution_count": 18,
   "id": "2bcb726e",
   "metadata": {},
   "outputs": [],
   "source": [
    "def dehaze(image, omega=0.95, window_size=15, t_min=0.1):\n",
    "    dark_chan = dark_channel(image, window_size)\n",
    "    atmospheric = atmospheric_light(image, dark_chan)\n",
    "    transmission = transmission_estimation(image, atmospheric, omega, window_size)\n",
    "    transmission = np.maximum(transmission, t_min)\n",
    "    \n",
    "    # Resize the transmission map to match the shape of the input image\n",
    "    transmission_resized = cv2.resize(transmission, (image.shape[1], image.shape[0]))\n",
    "    \n",
    "    # Expand dimensions of the transmission map to match number of channels in the input image\n",
    "    transmission_expanded = np.repeat(transmission_resized[:, :, np.newaxis], 3, axis=2)\n",
    "    \n",
    "    refined_transmission = guided_filter(image.astype(np.float32)/255.0 , transmission_expanded.astype(np.float32))\n",
    "\n",
    "    recovered_image = np.zeros_like(image)\n",
    "    \n",
    "    for i in range(3):\n",
    "        recovered_image[:, :, i] = ((image[:, :, i] - atmospheric[i]) / refined_transmission[:, :, i] + atmospheric[i]).astype(np.uint8)\n",
    "\n",
    "    return np.clip(recovered_image.astype(np.uint8), 0 ,255)\n"
   ]
  },
  {
   "cell_type": "code",
   "execution_count": 19,
   "id": "11b0fe8e",
   "metadata": {},
   "outputs": [
    {
     "name": "stdout",
     "output_type": "stream",
     "text": [
      "Enhancement complete. Enhanced images are saved in the 'Output' folder within the 'Input' folder.\n"
     ]
    }
   ],
   "source": [
    "# Get the current directory\n",
    "current_directory = os.getcwd()\n",
    "\n",
    "# Define input and output folder paths\n",
    "input_folder = os.path.join(current_directory, 'Input')\n",
    "output_folder = os.path.join(current_directory, 'Output')\n",
    "\n",
    "# Create the output folder if it doesn't exist\n",
    "if not os.path.exists(output_folder):\n",
    "    os.makedirs(output_folder)\n",
    "\n",
    "# List all image files in the input folder\n",
    "image_files = [f for f in os.listdir(input_folder) if f.endswith(('.jpg', '.jpeg', '.png', '.bmp'))]\n",
    "\n",
    "for image_file in image_files:\n",
    "    # Load the underwater image\n",
    "    input_image_path = os.path.join(input_folder, image_file)\n",
    "    input_image = cv2.imread(input_image_path)\n",
    "\n",
    "    # Enhance the image using the Dark Channel Prior\n",
    "    enhanced_image = dehaze(input_image)\n",
    "\n",
    "    # Save the enhanced image to the output folder within the input folder\n",
    "    output_image_path = os.path.join(output_folder, image_file)\n",
    "    cv2.imwrite(output_image_path, enhanced_image)\n",
    "\n",
    "print(\"Enhancement complete. Enhanced images are saved in the 'Output' folder within the 'Input' folder.\")"
   ]
  },
  {
   "cell_type": "code",
   "execution_count": null,
   "id": "d8d65fbe",
   "metadata": {},
   "outputs": [],
   "source": []
  }
 ],
 "metadata": {
  "kernelspec": {
   "display_name": "Python 3 (ipykernel)",
   "language": "python",
   "name": "python3"
  },
  "language_info": {
   "codemirror_mode": {
    "name": "ipython",
    "version": 3
   },
   "file_extension": ".py",
   "mimetype": "text/x-python",
   "name": "python",
   "nbconvert_exporter": "python",
   "pygments_lexer": "ipython3",
   "version": "3.11.4"
  }
 },
 "nbformat": 4,
 "nbformat_minor": 5
}
